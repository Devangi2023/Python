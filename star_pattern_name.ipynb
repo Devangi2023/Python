{
 "cells": [
  {
   "cell_type": "code",
   "execution_count": 1,
   "id": "9ae741b2-59a8-46d1-a07a-8052ba2509c1",
   "metadata": {},
   "outputs": [
    {
     "name": "stdout",
     "output_type": "stream",
     "text": [
      "* * * * *   * * * *   *               *         *           *       *   * * * *       * * * * *     \n",
      "    *   *   *           *           *         *   *         * *     *   *                 *         \n",
      "    *   *   * * * *       *       *         * * * * *       *   *   *   *     * * *       *         \n",
      "    *   *   *               *   *         *           *     *     * *   *     * *         *         \n",
      "* * * * *   * * * *           *         *               *   *       *   * * * *   *   * * * * *     \n"
     ]
    }
   ],
   "source": [
    "for raw in range(5):\n",
    "    for col in range(50):\n",
    "        if (raw in (0,4) and col in (0,1,2,3,4) or col in (2,4)):\n",
    "            print(\"*\",end=\" \")\n",
    "        elif (col in (6,6) or col in (7,7) and raw in (0,2,4) or col in (8,8) and raw in (0,2,4) or col in (9,9) and raw in (0,2,4)):\n",
    "            print(\"*\",end=\" \")\n",
    "        elif (raw in (0,0) and col in (11,19) or raw in (1,1) and col in (12,18) or raw in (2,2) and col in (13,17) or raw in (3,3) and col in (14,16) or raw in (4,4) and col in (15,15)):\n",
    "            print(\"*\",end=\" \")\n",
    "        elif (raw in (4,4) and col in (20,28) or raw in (3,3) and col in (21,27) or raw in (2,2) and col in (22,23,24,25,26) or raw in (1,1) and col in (23,25) or raw in (0,0) and col in (24,24)):\n",
    "            print(\"*\",end=\" \")\n",
    "        elif (col in (30,30) or raw in (1,1) and col in (31,31) or raw in (2,2) and col in (32,32) or raw in (3,3) and col in (33,33) or col in (34,34)):\n",
    "            print(\"*\",end=\" \")\n",
    "        elif (col in (36,36) or raw in (0,4) and col in (37,37) or raw in (0,4) and col in (38,38) or raw in (0,2,3,4) and col in (39,39) or raw in (2,2) and col in (40,40) or raw in (2,2) and col in (41,41) or raw in (3,3) and col in (40,40) or raw in (4,4) and col in (41,41)):\n",
    "            print(\"*\",end=\" \")\n",
    "        elif (raw in (0,4) and col in (43,43) or raw in (0,4) and col in (44,44) or col in (45,45) or raw in (0,4) and col in (46,46) or raw in (0,4) and col in (47,47)):\n",
    "            print(\"*\",end=\" \")\n",
    "        else: \n",
    "            print(\" \",end=\" \")\n",
    "    print(\"\")"
   ]
  },
  {
   "cell_type": "code",
   "execution_count": null,
   "id": "c7d8c881-9910-4f10-9377-b74925ae7522",
   "metadata": {},
   "outputs": [],
   "source": []
  }
 ],
 "metadata": {
  "kernelspec": {
   "display_name": "Python 3 (ipykernel)",
   "language": "python",
   "name": "python3"
  },
  "language_info": {
   "codemirror_mode": {
    "name": "ipython",
    "version": 3
   },
   "file_extension": ".py",
   "mimetype": "text/x-python",
   "name": "python",
   "nbconvert_exporter": "python",
   "pygments_lexer": "ipython3",
   "version": "3.11.7"
  }
 },
 "nbformat": 4,
 "nbformat_minor": 5
}
