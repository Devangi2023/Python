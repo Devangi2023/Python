{
 "cells": [
  {
   "cell_type": "code",
   "execution_count": 21,
   "id": "c1c4d892-2984-4f37-bdb0-5dd2554fe5ad",
   "metadata": {},
   "outputs": [
    {
     "name": "stdin",
     "output_type": "stream",
     "text": [
      "Enter the 1 st number:  1543\n",
      "Enter the 2 nd number:  2653\n",
      "Enter the 3 rd number:  746\n"
     ]
    },
    {
     "name": "stdout",
     "output_type": "stream",
     "text": [
      "The larget number is 2653\n"
     ]
    }
   ],
   "source": [
    "# print the largest of the three numbers\n",
    "a = int(input(\"Enter the 1 st number: \"))\n",
    "b = int(input(\"Enter the 2 nd number: \"))\n",
    "c = int(input(\"Enter the 3 rd number: \"))\n",
    "max = 0\n",
    "if a >= b:\n",
    "    if a >= c:\n",
    "        print(\"The larget number is\", a)\n",
    "elif b >= a:\n",
    "    if b >= c:\n",
    "        print(\"The larget number is\",b)\n",
    "else:\n",
    "    print(\"The largest number is \",c)\n",
    "        "
   ]
  },
  {
   "cell_type": "code",
   "execution_count": 2,
   "id": "68ab80f2-131e-465c-a8f1-bdb8eec38911",
   "metadata": {},
   "outputs": [
    {
     "name": "stdin",
     "output_type": "stream",
     "text": [
      "Enter Person Age:  14\n"
     ]
    },
    {
     "name": "stdout",
     "output_type": "stream",
     "text": [
      "The person is not Eligible for vote\n"
     ]
    }
   ],
   "source": [
    "# the person is eligible for vote or not\n",
    "person = int(input(\"Enter Person Age: \"))\n",
    "if person > 18:\n",
    "    print(\"The Person is Eligible for vote\")\n",
    "else:\n",
    "    print(\"The person is not Eligible for vote\")"
   ]
  },
  {
   "cell_type": "code",
   "execution_count": 3,
   "id": "d1c0cf6a-7bf6-4d3a-9a4d-e7cfbdcf080b",
   "metadata": {},
   "outputs": [
    {
     "name": "stdin",
     "output_type": "stream",
     "text": [
      "Enter the Number:  7\n"
     ]
    },
    {
     "name": "stdout",
     "output_type": "stream",
     "text": [
      "7 The number is Odd\n"
     ]
    }
   ],
   "source": [
    "# check whether a number is even or odd\n",
    "a = int(input(\"Enter the Number: \"))\n",
    "if a % 2 == 0:\n",
    "    print(f\"{a} The number is Even\")\n",
    "else:\n",
    "    print(f\"{a} The number is Odd\")"
   ]
  },
  {
   "cell_type": "code",
   "execution_count": 4,
   "id": "60e095ec-cdb9-4465-904e-836278652edd",
   "metadata": {},
   "outputs": [
    {
     "name": "stdin",
     "output_type": "stream",
     "text": [
      "Enter the marks:  64\n"
     ]
    },
    {
     "name": "stdout",
     "output_type": "stream",
     "text": [
      "The Grad is C\n"
     ]
    }
   ],
   "source": [
    "# marks out of 100 with their respective grades\n",
    "Marks = float(input(\"Enter the marks: \"))\n",
    "if Marks <= 40:\n",
    "    print(\"The Grad is F\")\n",
    "elif Marks <= 50:\n",
    "    print(\"The Grad is E\")\n",
    "elif Marks <= 60:\n",
    "    print(\"The Grad is D\")\n",
    "elif Marks <= 70:\n",
    "    print(\"The Grad is C\")\n",
    "elif Marks <= 80:\n",
    "    print(\"The Grad is B\")\n",
    "elif Marks <= 90:\n",
    "    print(\"The Grad is A\")\n",
    "else:\n",
    "    print(\"The Grad is A+\")"
   ]
  },
  {
   "cell_type": "code",
   "execution_count": 5,
   "id": "bcc24efe-d6bb-4c10-a723-934b98b7d89b",
   "metadata": {},
   "outputs": [
    {
     "name": "stdin",
     "output_type": "stream",
     "text": [
      "Enter the value of a:  5\n",
      "Enter the value of b:  3\n"
     ]
    },
    {
     "name": "stdout",
     "output_type": "stream",
     "text": [
      " 5 is Bigger than 3\n"
     ]
    }
   ],
   "source": [
    "# to know whether a number is smalleror greater than inputted number\n",
    "a = int(input(\"Enter the value of a: \"))\n",
    "b = int(input(\"Enter the value of b: \"))\n",
    "if(a <= b):\n",
    "    print(f\" {a} is Smaller than {b}\")\n",
    "else:\n",
    "    print(f\" {a} is Bigger than {b}\")"
   ]
  },
  {
   "cell_type": "code",
   "execution_count": 24,
   "id": "48ffce4a-df23-4b60-9690-2b0d71b2332b",
   "metadata": {},
   "outputs": [
    {
     "name": "stdin",
     "output_type": "stream",
     "text": [
      "Enter the number:  21\n"
     ]
    },
    {
     "name": "stdout",
     "output_type": "stream",
     "text": [
      "21 The number is divisiable by only 3\n"
     ]
    }
   ],
   "source": [
    "# find number is divisiable by 2 and 3 noth or by 2 by 3\n",
    "n1 = int(input(\"Enter the number: \"))\n",
    "if n1%2 ==0:\n",
    "    if n1%3 ==0:\n",
    "        print(n1,\"The number is divisiable by 2 and 3 both\")\n",
    "    else:\n",
    "        print(n1,\"The number is divisiable by only 2\")\n",
    "else:\n",
    "    if n1%3 ==0:\n",
    "        print(n1,\"The number is divisiable by only 3\")\n",
    "    else:\n",
    "        print(n1,\"The number is not divisiable by 2 and 3\")"
   ]
  },
  {
   "cell_type": "code",
   "execution_count": 28,
   "id": "61b9bec7-5ee4-4bd2-9c0d-c40d9e080543",
   "metadata": {},
   "outputs": [
    {
     "name": "stdout",
     "output_type": "stream",
     "text": [
      "76 is largest number then 65\n"
     ]
    }
   ],
   "source": [
    "# given two numbers and find which number is greater or which number is smaller\n",
    "num1 = 76\n",
    "num2 = 65\n",
    "if num1 > num2:\n",
    "    print(num1 ,\"is largest number then\", num2)\n",
    "else:\n",
    "    print(num1 ,\"is smallest number then\", num2)"
   ]
  },
  {
   "cell_type": "code",
   "execution_count": 29,
   "id": "d3329e27-6eb2-455f-8859-3dae80ce621f",
   "metadata": {},
   "outputs": [
    {
     "name": "stdin",
     "output_type": "stream",
     "text": [
      "Enter the temprature 34.00\n"
     ]
    },
    {
     "name": "stdout",
     "output_type": "stream",
     "text": [
      "The weather is too hot\n"
     ]
    }
   ],
   "source": [
    "# weather for tomorrow is cold, warm very hot or else\n",
    "temp = float(input(\"Enter the temprature\"))\n",
    "if temp >= 30:\n",
    "    print(\"The weather is too hot\")\n",
    "else:\n",
    "    if temp <= 0:\n",
    "        print(\"The weather is too cold\")\n",
    "    elif temp > 0 and temp < 22:\n",
    "        print(\"The weather is Cold\")\n",
    "    else:\n",
    "        print(\"The weather is warm\")"
   ]
  },
  {
   "cell_type": "code",
   "execution_count": 30,
   "id": "3ccdf3cc-87d6-4592-8326-81502126930d",
   "metadata": {},
   "outputs": [
    {
     "name": "stdin",
     "output_type": "stream",
     "text": [
      "Enter the number:  53\n",
      "Enter the sec number:  46\n"
     ]
    },
    {
     "name": "stdout",
     "output_type": "stream",
     "text": [
      "The number is divisiable 1.1521739130434783\n"
     ]
    }
   ],
   "source": [
    "# division of two numbers\n",
    "n1 = float(input(\"Enter the number: \"))\n",
    "n2 = float(input(\"Enter the sec number: \"))\n",
    "if n1/n2:\n",
    "    print(\"The number is divisiable\",n1/n2)"
   ]
  },
  {
   "cell_type": "code",
   "execution_count": 35,
   "id": "f5d202f0-cee2-446b-896d-f873205f3d55",
   "metadata": {},
   "outputs": [
    {
     "name": "stdin",
     "output_type": "stream",
     "text": [
      "enter the value of a:  12\n"
     ]
    },
    {
     "name": "stdout",
     "output_type": "stream",
     "text": [
      "a is positive number.The number is 12\n"
     ]
    }
   ],
   "source": [
    "# check number is  positive negative or zero\n",
    "a = int(input(\"enter the value of a: \"))\n",
    "if a < 0:\n",
    "    print(\"Negative number\")\n",
    "elif a == 0: \n",
    "    print(\"Zero\")\n",
    "else:\n",
    "    print(\"a is positive number.The number is\",a)"
   ]
  },
  {
   "cell_type": "code",
   "execution_count": 10,
   "id": "e077cb13-cfcd-497d-b317-c58613c67efb",
   "metadata": {},
   "outputs": [
    {
     "name": "stdin",
     "output_type": "stream",
     "text": [
      "Enter the year:  1999\n"
     ]
    },
    {
     "name": "stdout",
     "output_type": "stream",
     "text": [
      "It's not a leap year\n"
     ]
    }
   ],
   "source": [
    "# check the leap year\n",
    "year = int(input(\"Enter the year: \"))\n",
    "if year % 400 == 0 and year % 100 == 0:\n",
    "    print(\"The year is leap year: \", year)\n",
    "elif year % 4 == 0 and year % 100  != 0:\n",
    "    print(\"The year is leap year: \", year)\n",
    "else:\n",
    "    print(\"It's not a leap year\")"
   ]
  },
  {
   "cell_type": "code",
   "execution_count": 4,
   "id": "25cb462c-ac80-49c6-9391-2526a5975b07",
   "metadata": {},
   "outputs": [
    {
     "name": "stdin",
     "output_type": "stream",
     "text": [
      "Enter the number:  42\n",
      "Enter the number:  35\n"
     ]
    },
    {
     "name": "stdout",
     "output_type": "stream",
     "text": [
      "210\n"
     ]
    }
   ],
   "source": [
    "# find LCM (Least Common Multiple)\n",
    "import numpy as np\n",
    "a = int(input(\"Enter the number: \"))\n",
    "b = int(input(\"Enter the number: \"))\n",
    "if a !=0 and b!=0: \n",
    "    print(np.lcm(a,b))\n",
    "else:\n",
    "    print(\"It's not least common multiple.\")"
   ]
  },
  {
   "cell_type": "code",
   "execution_count": 6,
   "id": "5f63c90d-f397-4fa1-a5c0-af33f0a3cf93",
   "metadata": {},
   "outputs": [
    {
     "name": "stdin",
     "output_type": "stream",
     "text": [
      "Enter the number:  42\n",
      "Enter the number:  35\n"
     ]
    },
    {
     "name": "stdout",
     "output_type": "stream",
     "text": [
      "7\n"
     ]
    }
   ],
   "source": [
    "# find HCF (Highest Common Factor)\n",
    "import numpy as np\n",
    "a = int(input(\"Enter the number: \"))\n",
    "b = int(input(\"Enter the number: \"))\n",
    "if a !=0 and b!=0: \n",
    "    print(np.gcd(a,b))\n",
    "else:\n",
    "    print(\"It's not least common multiple.\")"
   ]
  },
  {
   "cell_type": "code",
   "execution_count": 10,
   "id": "9e81b331-b9ce-479f-baa6-e392584dc69b",
   "metadata": {},
   "outputs": [
    {
     "name": "stdin",
     "output_type": "stream",
     "text": [
      "Enter the value of a:  1\n",
      "Enter the value of b:  10\n",
      "Enter the value of c:  14\n"
     ]
    },
    {
     "name": "stdout",
     "output_type": "stream",
     "text": [
      "The ans is Num1 = -1.6833752096446002 , Num2 = -8.3166247903554\n"
     ]
    }
   ],
   "source": [
    "# solve Quadratic Equation ax 2 + bx + c = 0 where a, b, c are real numbers and a≠0\n",
    "import math\n",
    "a = int(input('Enter the value of a: '))\n",
    "b = int(input('Enter the value of b: '))\n",
    "c = int(input('Enter the value of c: '))\n",
    "\n",
    "# discriminant of Equation\n",
    "d = b*b - 4*a*c\n",
    "\n",
    "if d == 0:\n",
    "    num1 = (-b) / (2 * a)\n",
    "    num2 = num1\n",
    "    print('The ans is Num1 =', num1, ', Num2 =', num2)\n",
    "\n",
    "elif d > 0:\n",
    "    num1 = (-b + math.sqrt(d)) / (2 * a)\n",
    "    num2 = (-b - math.sqrt(d)) / (2 * a)\n",
    "    print('The ans is Num1 =', num1, ', Num2 =', num2)\n",
    "\n",
    "else:\n",
    "    print('This is wrong equation')"
   ]
  },
  {
   "cell_type": "code",
   "execution_count": null,
   "id": "6462cf57-b46d-4baf-974d-71df2b92702b",
   "metadata": {},
   "outputs": [],
   "source": []
  }
 ],
 "metadata": {
  "kernelspec": {
   "display_name": "Python 3 (ipykernel)",
   "language": "python",
   "name": "python3"
  },
  "language_info": {
   "codemirror_mode": {
    "name": "ipython",
    "version": 3
   },
   "file_extension": ".py",
   "mimetype": "text/x-python",
   "name": "python",
   "nbconvert_exporter": "python",
   "pygments_lexer": "ipython3",
   "version": "3.11.7"
  }
 },
 "nbformat": 4,
 "nbformat_minor": 5
}
